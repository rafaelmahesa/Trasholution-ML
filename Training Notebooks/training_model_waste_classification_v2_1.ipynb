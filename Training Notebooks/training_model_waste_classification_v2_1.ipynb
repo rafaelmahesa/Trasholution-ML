{
  "cells": [
    {
      "attachments": {},
      "cell_type": "markdown",
      "metadata": {
        "id": "FV9kBUwnPzQ-"
      },
      "source": [
        "## Import Required Modules"
      ]
    },
    {
      "cell_type": "code",
      "execution_count": null,
      "metadata": {
        "colab": {
          "base_uri": "https://localhost:8080/"
        },
        "id": "e9l9YhIA3jJw",
        "outputId": "004d6e5a-7928-442a-f5a0-dfe0f9d0c5e1"
      },
      "outputs": [
        {
          "name": "stdout",
          "output_type": "stream",
          "text": [
            "Downloading...\n",
            "From: https://drive.google.com/uc?id=1iNoJeuymN8SObhBQdPIcWULh9ZbE0QcR\n",
            "To: /content/Split_Datasets_520.zip\n",
            "100% 407M/407M [00:04<00:00, 85.3MB/s]\n"
          ]
        }
      ],
      "source": [
        "!gdown '1iNoJeuymN8SObhBQdPIcWULh9ZbE0QcR' --output Split_Datasets_520.zip"
      ]
    },
    {
      "cell_type": "code",
      "execution_count": null,
      "metadata": {
        "execution": {
          "iopub.execute_input": "2023-05-29T19:08:52.102000Z",
          "iopub.status.busy": "2023-05-29T19:08:52.101562Z",
          "iopub.status.idle": "2023-05-29T19:08:52.108082Z",
          "shell.execute_reply": "2023-05-29T19:08:52.106697Z",
          "shell.execute_reply.started": "2023-05-29T19:08:52.101968Z"
        },
        "id": "PdHc_pmToT4W",
        "trusted": true
      },
      "outputs": [],
      "source": [
        "import cv2\n",
        "import numpy as np\n",
        "import os\n",
        "import shutil\n",
        "import tensorflow as tf\n",
        "import zipfile\n",
        "import pandas as pd\n",
        "import matplotlib.pyplot as plt\n",
        "from PIL import Image"
      ]
    },
    {
      "cell_type": "code",
      "execution_count": null,
      "metadata": {
        "id": "JIX9WBOZ3v0W"
      },
      "outputs": [],
      "source": [
        "with zipfile.ZipFile('/content/Split_Datasets_520.zip', 'r') as zip:\n",
        "    zip.extractall('/content/Datasets')"
      ]
    },
    {
      "attachments": {},
      "cell_type": "markdown",
      "metadata": {
        "id": "cu_mS-NxPwn-"
      },
      "source": [
        "## Data Extract, Transform, and Load"
      ]
    },
    {
      "cell_type": "code",
      "execution_count": null,
      "metadata": {
        "execution": {
          "iopub.execute_input": "2023-05-29T19:08:52.115840Z",
          "iopub.status.busy": "2023-05-29T19:08:52.114836Z",
          "iopub.status.idle": "2023-05-29T19:08:52.124841Z",
          "shell.execute_reply": "2023-05-29T19:08:52.123164Z",
          "shell.execute_reply.started": "2023-05-29T19:08:52.115797Z"
        },
        "id": "VJFOAbz1pFVQ",
        "trusted": true
      },
      "outputs": [],
      "source": [
        "data_train_dir = \"/content/Datasets/train\"\n",
        "data_val_dir = \"/content/Datasets/val\"\n",
        "data_test_dir = \"/content/Datasets/test\"\n",
        "img_width = 300\n",
        "img_height = 300\n",
        "batch_size = 32\n",
        "AUTOTUNE = tf.data.AUTOTUNE"
      ]
    },
    {
      "cell_type": "code",
      "execution_count": null,
      "metadata": {
        "colab": {
          "base_uri": "https://localhost:8080/"
        },
        "execution": {
          "iopub.execute_input": "2023-05-29T19:08:52.131701Z",
          "iopub.status.busy": "2023-05-29T19:08:52.130977Z",
          "iopub.status.idle": "2023-05-29T19:08:52.816483Z",
          "shell.execute_reply": "2023-05-29T19:08:52.815301Z",
          "shell.execute_reply.started": "2023-05-29T19:08:52.131655Z"
        },
        "id": "09DN8uB3pT1z",
        "outputId": "afb62567-d4b8-490a-ca9f-d88a9bbf7757",
        "trusted": true
      },
      "outputs": [
        {
          "name": "stdout",
          "output_type": "stream",
          "text": [
            "Found 3328 files belonging to 8 classes.\n"
          ]
        }
      ],
      "source": [
        "train_data = tf.keras.utils.image_dataset_from_directory(\n",
        "    data_train_dir,\n",
        "    labels='inferred',\n",
        "    label_mode='categorical',\n",
        "    color_mode='rgb',\n",
        "    batch_size=batch_size,\n",
        "    image_size=(img_width, img_height),\n",
        "    shuffle=True,\n",
        ")"
      ]
    },
    {
      "cell_type": "code",
      "execution_count": null,
      "metadata": {
        "colab": {
          "base_uri": "https://localhost:8080/"
        },
        "execution": {
          "iopub.execute_input": "2023-05-29T19:08:52.819229Z",
          "iopub.status.busy": "2023-05-29T19:08:52.818885Z",
          "iopub.status.idle": "2023-05-29T19:08:52.938045Z",
          "shell.execute_reply": "2023-05-29T19:08:52.936916Z",
          "shell.execute_reply.started": "2023-05-29T19:08:52.819202Z"
        },
        "id": "LbK7V1iqq0Ck",
        "outputId": "12734a7f-992b-4ab0-d7cd-484eea214063",
        "trusted": true
      },
      "outputs": [
        {
          "name": "stdout",
          "output_type": "stream",
          "text": [
            "Found 416 files belonging to 8 classes.\n"
          ]
        }
      ],
      "source": [
        "val_data = tf.keras.utils.image_dataset_from_directory(\n",
        "    data_val_dir,\n",
        "    labels='inferred',\n",
        "    label_mode='categorical',\n",
        "    color_mode='rgb',\n",
        "    batch_size=batch_size,\n",
        "    image_size=(img_width, img_height),\n",
        "    shuffle=True,\n",
        ")"
      ]
    },
    {
      "cell_type": "code",
      "execution_count": null,
      "metadata": {
        "colab": {
          "base_uri": "https://localhost:8080/"
        },
        "execution": {
          "iopub.execute_input": "2023-05-29T19:08:52.940490Z",
          "iopub.status.busy": "2023-05-29T19:08:52.939780Z",
          "iopub.status.idle": "2023-05-29T19:08:53.058308Z",
          "shell.execute_reply": "2023-05-29T19:08:53.057187Z",
          "shell.execute_reply.started": "2023-05-29T19:08:52.940454Z"
        },
        "id": "UaTnPyZjq54e",
        "outputId": "536f8596-1ec9-4c7c-8dab-b1d69e8ad251",
        "trusted": true
      },
      "outputs": [
        {
          "name": "stdout",
          "output_type": "stream",
          "text": [
            "Found 416 files belonging to 8 classes.\n"
          ]
        }
      ],
      "source": [
        "test_data = tf.keras.utils.image_dataset_from_directory(\n",
        "    data_test_dir,\n",
        "    labels='inferred',\n",
        "    label_mode='categorical',\n",
        "    color_mode='rgb',\n",
        "    batch_size=batch_size,\n",
        "    image_size=(img_width, img_height),\n",
        "    shuffle=True,\n",
        ")"
      ]
    },
    {
      "cell_type": "code",
      "execution_count": null,
      "metadata": {
        "colab": {
          "base_uri": "https://localhost:8080/"
        },
        "execution": {
          "iopub.execute_input": "2023-05-29T19:08:53.061442Z",
          "iopub.status.busy": "2023-05-29T19:08:53.060866Z",
          "iopub.status.idle": "2023-05-29T19:08:53.067058Z",
          "shell.execute_reply": "2023-05-29T19:08:53.065734Z",
          "shell.execute_reply.started": "2023-05-29T19:08:53.061412Z"
        },
        "id": "PLEYx8SQnA1U",
        "outputId": "79f964fc-88ef-4a68-b613-c689ec128c31",
        "trusted": true
      },
      "outputs": [
        {
          "name": "stdout",
          "output_type": "stream",
          "text": [
            "['Electronic_Waste', 'Food_Scraps', 'Glass', 'Metalic_Materials', 'Organic_Vegetation_Waste', 'Paper', 'Plastic', 'Textile']\n"
          ]
        }
      ],
      "source": [
        "class_names = train_data.class_names\n",
        "print(class_names)"
      ]
    },
    {
      "cell_type": "code",
      "execution_count": null,
      "metadata": {
        "colab": {
          "base_uri": "https://localhost:8080/"
        },
        "execution": {
          "iopub.execute_input": "2023-05-29T19:08:53.069241Z",
          "iopub.status.busy": "2023-05-29T19:08:53.068703Z",
          "iopub.status.idle": "2023-05-29T19:08:53.082065Z",
          "shell.execute_reply": "2023-05-29T19:08:53.080097Z",
          "shell.execute_reply.started": "2023-05-29T19:08:53.069193Z"
        },
        "id": "4qB40Dvr3MbH",
        "outputId": "fd3079c0-d9e2-44c4-89aa-7427e451a5bd",
        "trusted": true
      },
      "outputs": [
        {
          "name": "stdout",
          "output_type": "stream",
          "text": [
            "<_BatchDataset element_spec=(TensorSpec(shape=(None, 300, 300, 3), dtype=tf.float32, name=None), TensorSpec(shape=(None, 8), dtype=tf.float32, name=None))>\n"
          ]
        }
      ],
      "source": [
        "print(train_data)"
      ]
    },
    {
      "attachments": {},
      "cell_type": "markdown",
      "metadata": {},
      "source": [
        "### Data Augmentation"
      ]
    },
    {
      "cell_type": "code",
      "execution_count": null,
      "metadata": {
        "execution": {
          "iopub.execute_input": "2023-05-29T19:08:53.116001Z",
          "iopub.status.busy": "2023-05-29T19:08:53.115188Z",
          "iopub.status.idle": "2023-05-29T19:08:53.131131Z",
          "shell.execute_reply": "2023-05-29T19:08:53.129765Z",
          "shell.execute_reply.started": "2023-05-29T19:08:53.115958Z"
        },
        "id": "V08aNh6n3MbI",
        "trusted": true
      },
      "outputs": [],
      "source": [
        "data_augmentation = tf.keras.Sequential([\n",
        "    tf.keras.layers.RandomFlip(\"horizontal_and_vertical\"),\n",
        "    tf.keras.layers.RandomRotation(0.2),\n",
        "    tf.keras.layers.Resizing(300, 300)\n",
        "])"
      ]
    },
    {
      "cell_type": "code",
      "execution_count": null,
      "metadata": {
        "execution": {
          "iopub.execute_input": "2023-05-29T19:08:53.133232Z",
          "iopub.status.busy": "2023-05-29T19:08:53.132873Z",
          "iopub.status.idle": "2023-05-29T19:08:53.144727Z",
          "shell.execute_reply": "2023-05-29T19:08:53.143022Z",
          "shell.execute_reply.started": "2023-05-29T19:08:53.133202Z"
        },
        "id": "InckirKN3MbJ",
        "trusted": true
      },
      "outputs": [],
      "source": [
        "def preprocess_and_augmentation(data, augment=False, shuffle=False):\n",
        "    ds = data.map(\n",
        "        lambda x, y: (tf.keras.applications.xception.preprocess_input(x), y),\n",
        "        num_parallel_calls=AUTOTUNE\n",
        "    )\n",
        "    if shuffle:\n",
        "        ds = ds.shuffle(1000)\n",
        "    if augment:\n",
        "        ds = ds.map(\n",
        "            lambda x, y: (data_augmentation(x, training=True), y),\n",
        "            num_parallel_calls=AUTOTUNE\n",
        "        )\n",
        "    ds = ds.cache().prefetch(buffer_size=AUTOTUNE)\n",
        "    return ds"
      ]
    },
    {
      "cell_type": "code",
      "execution_count": null,
      "metadata": {
        "execution": {
          "iopub.execute_input": "2023-05-29T19:08:53.148814Z",
          "iopub.status.busy": "2023-05-29T19:08:53.147960Z",
          "iopub.status.idle": "2023-05-29T19:08:53.528369Z",
          "shell.execute_reply": "2023-05-29T19:08:53.527046Z",
          "shell.execute_reply.started": "2023-05-29T19:08:53.148779Z"
        },
        "id": "Oxmml7IY3MbJ",
        "trusted": true
      },
      "outputs": [],
      "source": [
        "train_data = preprocess_and_augmentation(train_data, augment=True, shuffle=True)\n",
        "val_data = preprocess_and_augmentation(val_data)\n",
        "test_data = preprocess_and_augmentation(test_data)"
      ]
    },
    {
      "cell_type": "code",
      "execution_count": null,
      "metadata": {
        "colab": {
          "base_uri": "https://localhost:8080/"
        },
        "execution": {
          "iopub.execute_input": "2023-05-29T19:08:53.530261Z",
          "iopub.status.busy": "2023-05-29T19:08:53.529905Z",
          "iopub.status.idle": "2023-05-29T19:08:53.536841Z",
          "shell.execute_reply": "2023-05-29T19:08:53.535506Z",
          "shell.execute_reply.started": "2023-05-29T19:08:53.530232Z"
        },
        "id": "ENH4LXNs3MbJ",
        "outputId": "a17d5144-815c-4807-9676-5e541450edca",
        "trusted": true
      },
      "outputs": [
        {
          "name": "stdout",
          "output_type": "stream",
          "text": [
            "<_PrefetchDataset element_spec=(TensorSpec(shape=(None, 300, 300, 3), dtype=tf.float32, name=None), TensorSpec(shape=(None, 8), dtype=tf.float32, name=None))>\n"
          ]
        }
      ],
      "source": [
        "print(train_data)"
      ]
    },
    {
      "cell_type": "code",
      "execution_count": null,
      "metadata": {
        "colab": {
          "base_uri": "https://localhost:8080/"
        },
        "execution": {
          "iopub.execute_input": "2023-05-29T19:09:03.401514Z",
          "iopub.status.busy": "2023-05-29T19:09:03.401102Z",
          "iopub.status.idle": "2023-05-29T19:09:03.408454Z",
          "shell.execute_reply": "2023-05-29T19:09:03.406700Z",
          "shell.execute_reply.started": "2023-05-29T19:09:03.401482Z"
        },
        "id": "mNrJsRip3MbJ",
        "outputId": "a3bd1044-41e1-4aef-f0e0-ec877107e5dd",
        "trusted": true
      },
      "outputs": [
        {
          "name": "stdout",
          "output_type": "stream",
          "text": [
            "<_PrefetchDataset element_spec=(TensorSpec(shape=(None, 300, 300, 3), dtype=tf.float32, name=None), TensorSpec(shape=(None, 8), dtype=tf.float32, name=None))>\n"
          ]
        }
      ],
      "source": [
        "print(val_data)"
      ]
    },
    {
      "attachments": {},
      "cell_type": "markdown",
      "metadata": {
        "id": "7d92K2uhpSHp"
      },
      "source": [
        "## Training and Testing Model"
      ]
    },
    {
      "cell_type": "code",
      "execution_count": null,
      "metadata": {
        "colab": {
          "base_uri": "https://localhost:8080/"
        },
        "execution": {
          "iopub.execute_input": "2023-05-29T18:58:59.206158Z",
          "iopub.status.busy": "2023-05-29T18:58:59.203399Z",
          "iopub.status.idle": "2023-05-29T18:59:01.042194Z",
          "shell.execute_reply": "2023-05-29T18:59:01.041288Z",
          "shell.execute_reply.started": "2023-05-29T18:58:59.206123Z"
        },
        "id": "oIZJslL_3MbK",
        "outputId": "49bf91cf-54b7-4893-aef6-7eecd9949361",
        "trusted": true
      },
      "outputs": [
        {
          "name": "stdout",
          "output_type": "stream",
          "text": [
            "Downloading data from https://storage.googleapis.com/tensorflow/keras-applications/xception/xception_weights_tf_dim_ordering_tf_kernels_notop.h5\n",
            "83683744/83683744 [==============================] - 0s 0us/step\n"
          ]
        }
      ],
      "source": [
        "base_model = tf.keras.applications.xception.Xception(\n",
        "    include_top=False,\n",
        "    input_shape=(300, 300, 3),\n",
        "    weights='imagenet'\n",
        ")\n",
        "base_model.trainable = False"
      ]
    },
    {
      "cell_type": "code",
      "execution_count": null,
      "metadata": {
        "execution": {
          "iopub.execute_input": "2023-05-29T18:59:01.043982Z",
          "iopub.status.busy": "2023-05-29T18:59:01.043618Z",
          "iopub.status.idle": "2023-05-29T18:59:01.551645Z",
          "shell.execute_reply": "2023-05-29T18:59:01.550745Z",
          "shell.execute_reply.started": "2023-05-29T18:59:01.043947Z"
        },
        "id": "psypKsC1rCLe",
        "trusted": true
      },
      "outputs": [],
      "source": [
        "model = tf.keras.Sequential([\n",
        "    base_model,\n",
        "    tf.keras.layers.GlobalAveragePooling2D(),\n",
        "    tf.keras.layers.Dense(128, activation=tf.keras.activations.relu),\n",
        "    tf.keras.layers.Dropout(0.3),\n",
        "    tf.keras.layers.Dense(8, activation=tf.keras.activations.softmax)\n",
        "])\n",
        "\n",
        "model.compile(\n",
        "    optimizer=tf.keras.optimizers.Adam(),\n",
        "    loss=tf.keras.losses.CategoricalCrossentropy(),\n",
        "    metrics=['accuracy']\n",
        ")"
      ]
    },
    {
      "cell_type": "code",
      "execution_count": null,
      "metadata": {
        "colab": {
          "base_uri": "https://localhost:8080/"
        },
        "id": "7eF5Pwh3sVZz",
        "outputId": "a34827da-9771-4879-a402-0e6f2f88d2b5"
      },
      "outputs": [
        {
          "name": "stdout",
          "output_type": "stream",
          "text": [
            "Model: \"sequential_3\"\n",
            "_________________________________________________________________\n",
            " Layer (type)                Output Shape              Param #   \n",
            "=================================================================\n",
            " xception (Functional)       (None, 10, 10, 2048)      20861480  \n",
            "                                                                 \n",
            " global_average_pooling2d_1   (None, 2048)             0         \n",
            " (GlobalAveragePooling2D)                                        \n",
            "                                                                 \n",
            " dense_4 (Dense)             (None, 128)               262272    \n",
            "                                                                 \n",
            " dropout_2 (Dropout)         (None, 128)               0         \n",
            "                                                                 \n",
            " dense_5 (Dense)             (None, 8)                 1032      \n",
            "                                                                 \n",
            "=================================================================\n",
            "Total params: 21,124,784\n",
            "Trainable params: 263,304\n",
            "Non-trainable params: 20,861,480\n",
            "_________________________________________________________________\n"
          ]
        }
      ],
      "source": [
        "model.summary()"
      ]
    },
    {
      "cell_type": "code",
      "execution_count": null,
      "metadata": {
        "colab": {
          "base_uri": "https://localhost:8080/"
        },
        "execution": {
          "iopub.execute_input": "2023-05-29T18:55:48.336307Z",
          "iopub.status.busy": "2023-05-29T18:55:48.335931Z",
          "iopub.status.idle": "2023-05-29T18:57:56.337474Z",
          "shell.execute_reply": "2023-05-29T18:57:56.335836Z",
          "shell.execute_reply.started": "2023-05-29T18:55:48.336274Z"
        },
        "id": "HXpa_u89xV8g",
        "outputId": "6ed6771c-5e2c-4581-f899-12f81fc72be3",
        "trusted": true
      },
      "outputs": [
        {
          "name": "stdout",
          "output_type": "stream",
          "text": [
            "Epoch 1/10\n",
            "104/104 [==============================] - 30s 262ms/step - loss: 0.7489 - accuracy: 0.7581 - val_loss: 0.3980 - val_accuracy: 0.8702\n",
            "Epoch 2/10\n",
            "104/104 [==============================] - 27s 261ms/step - loss: 0.3282 - accuracy: 0.8939 - val_loss: 0.3481 - val_accuracy: 0.8846\n",
            "Epoch 3/10\n",
            "104/104 [==============================] - 29s 280ms/step - loss: 0.2315 - accuracy: 0.9300 - val_loss: 0.3264 - val_accuracy: 0.8966\n",
            "Epoch 4/10\n",
            "104/104 [==============================] - 27s 254ms/step - loss: 0.1584 - accuracy: 0.9546 - val_loss: 0.3255 - val_accuracy: 0.8942\n",
            "Epoch 5/10\n",
            "104/104 [==============================] - 27s 260ms/step - loss: 0.1207 - accuracy: 0.9645 - val_loss: 0.3254 - val_accuracy: 0.8894\n",
            "Epoch 6/10\n",
            "104/104 [==============================] - 27s 256ms/step - loss: 0.1021 - accuracy: 0.9715 - val_loss: 0.3052 - val_accuracy: 0.9038\n",
            "Epoch 7/10\n",
            "104/104 [==============================] - 29s 276ms/step - loss: 0.0691 - accuracy: 0.9850 - val_loss: 0.3317 - val_accuracy: 0.8918\n",
            "Epoch 8/10\n",
            "104/104 [==============================] - 27s 258ms/step - loss: 0.0643 - accuracy: 0.9835 - val_loss: 0.3339 - val_accuracy: 0.8894\n",
            "Epoch 9/10\n",
            "104/104 [==============================] - 27s 259ms/step - loss: 0.0560 - accuracy: 0.9853 - val_loss: 0.3311 - val_accuracy: 0.9014\n",
            "Epoch 10/10\n",
            "104/104 [==============================] - 26s 254ms/step - loss: 0.0466 - accuracy: 0.9907 - val_loss: 0.3217 - val_accuracy: 0.8990\n"
          ]
        }
      ],
      "source": [
        "history = model.fit(\n",
        "    train_data,\n",
        "    epochs=10,\n",
        "    validation_data=val_data\n",
        ")"
      ]
    },
    {
      "cell_type": "code",
      "execution_count": null,
      "metadata": {
        "colab": {
          "base_uri": "https://localhost:8080/",
          "height": 202
        },
        "id": "_RtMuVG8qUNn",
        "outputId": "0b4c807d-8b99-499d-a3e6-c6cea6219940",
        "trusted": true
      },
      "outputs": [
        {
          "data": {
            "image/png": "[encoded data removed]",
            "text/plain": [
              "<Figure size 2000x500 with 2 Axes>"
            ]
          },
          "metadata": {},
          "output_type": "display_data"
        }
      ],
      "source": [
        "# Collect the history of the training run\n",
        "history = pd.DataFrame(history.history)\n",
        "\n",
        "# Create a figure to display the model's performance\n",
        "plt.figure(figsize=(20, 5))\n",
        "\n",
        "# Plot the loss curve in the first subplot\n",
        "plt.subplot(1, 2, 1)\n",
        "plt.title(\"Loss Curve\")\n",
        "plt.plot(history['loss'], label=\"Training Loss\")\n",
        "plt.plot(history['val_loss'], label=\"Validation Loss\")\n",
        "\n",
        "# Horizontal line to show the testing performance\n",
        "# plt.axhline(y=test_loss, label=\"Test Loss\", linestyle='--', color='green')\n",
        "\n",
        "# Set the x- and y-labels, and the x- and y-limits\n",
        "plt.xlabel(\"Epochs\")\n",
        "plt.ylabel(\"Cross Entropy Loss\")\n",
        "plt.ylim([0, 0.4])\n",
        "\n",
        "# Show the legend and grid\n",
        "plt.legend()\n",
        "plt.grid()\n",
        "\n",
        "# Plot the accuracy curve in the second subplot\n",
        "plt.subplot(1, 2, 2)\n",
        "plt.title(\"Accuracy Curve\")\n",
        "plt.plot(history['accuracy'], label=\"Training Accuracy\")\n",
        "plt.plot(history['val_accuracy'], label=\"Validation Accuracy\")\n",
        "\n",
        "# Horizontal line to show the testing performance\n",
        "# plt.axhline(y=test_acc, label=\"Test Accuracy\", linestyle='--', color='green')\n",
        "\n",
        "# Set the x- and y-labels, and the x- and y-limits\n",
        "plt.xlabel(\"Epochs\")\n",
        "plt.ylabel(\"Accuracy\")\n",
        "plt.ylim([0.85, 1])\n",
        "\n",
        "# Show the legend and grid\n",
        "plt.legend()\n",
        "plt.grid()\n",
        "\n",
        "# Display the plot\n",
        "plt.show()"
      ]
    },
    {
      "cell_type": "code",
      "execution_count": null,
      "metadata": {
        "colab": {
          "base_uri": "https://localhost:8080/"
        },
        "id": "4Qyq4ibbngS6",
        "outputId": "f67234f1-50a9-4717-e3b8-ddefd9049134",
        "trusted": true
      },
      "outputs": [
        {
          "name": "stdout",
          "output_type": "stream",
          "text": [
            "13/13 [==============================] - 5s 235ms/step - loss: 0.3220 - accuracy: 0.9038\n",
            "test loss, test acc: [0.32196298241615295, 0.9038461446762085]\n"
          ]
        }
      ],
      "source": [
        "results = model.evaluate(test_data, batch_size=32)\n",
        "print(\"test loss, test acc:\", results)"
      ]
    },
    {
      "attachments": {},
      "cell_type": "markdown",
      "metadata": {
        "id": "UO_2WnB8pVwU"
      },
      "source": [
        "## Saving Model"
      ]
    },
    {
      "cell_type": "code",
      "execution_count": null,
      "metadata": {
        "id": "S63938f_zcxd",
        "trusted": true
      },
      "outputs": [],
      "source": [
        "model.save('model-waste_classification-v2_1.h5')"
      ]
    },
    {
      "cell_type": "code",
      "execution_count": null,
      "metadata": {
        "colab": {
          "base_uri": "https://localhost:8080/"
        },
        "id": "R6jdMdoA0gcb",
        "outputId": "131f4373-c748-4f03-c2d8-e97dd79e57eb",
        "trusted": true
      },
      "outputs": [
        {
          "name": "stdout",
          "output_type": "stream",
          "text": [
            "Mounted at /content/drive\n"
          ]
        }
      ],
      "source": [
        "from google.colab import drive\n",
        "drive.mount('/content/drive')"
      ]
    },
    {
      "cell_type": "code",
      "execution_count": null,
      "metadata": {
        "colab": {
          "base_uri": "https://localhost:8080/",
          "height": 36
        },
        "id": "HZe8QHze0mR7",
        "outputId": "a3f9584a-75c4-446c-986e-9e2acf564415",
        "trusted": true
      },
      "outputs": [
        {
          "data": {
            "application/vnd.google.colaboratory.intrinsic+json": {
              "type": "string"
            },
            "text/plain": [
              "'/content/drive/MyDrive/CNN Models/model-waste_classification-v2_1.h5'"
            ]
          },
          "execution_count": 30,
          "metadata": {},
          "output_type": "execute_result"
        }
      ],
      "source": [
        "shutil.copy('/content/model-waste_classification-v2_1.h5', '/content/drive/MyDrive/CNN Models')"
      ]
    }
  ],
  "metadata": {
    "accelerator": "GPU",
    "colab": {
      "gpuType": "T4",
      "provenance": []
    },
    "gpuClass": "standard",
    "kernelspec": {
      "display_name": "Python 3",
      "language": "python",
      "name": "python3"
    },
    "language_info": {
      "codemirror_mode": {
        "name": "ipython",
        "version": 3
      },
      "file_extension": ".py",
      "mimetype": "text/x-python",
      "name": "python",
      "nbconvert_exporter": "python",
      "pygments_lexer": "ipython3",
      "version": "3.10.10"
    }
  },
  "nbformat": 4,
  "nbformat_minor": 0
}
